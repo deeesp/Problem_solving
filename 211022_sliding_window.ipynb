{
 "cells": [
  {
   "cell_type": "markdown",
   "metadata": {},
   "source": [
    "# Two pointer and sliding window\n",
    "- 파이썬 알고리즘 인터뷰 (박상길 저) 참조"
   ]
  },
  {
   "cell_type": "markdown",
   "metadata": {},
   "source": [
    "## Two Pointer (투 포인터)\n",
    "### 정의\n",
    "- 사실 아직 명확히 정의된 것이 없고, 일반적인 알고리즘 책에 나오진 않지만 실전적인 알고리즘 풀이법\n",
    "- 시작점(왼쪽 포인터)과 끝점(오른쪽 포인터) 두 지점을 기준으로 문제를 푸는 방법\n",
    "- 배열이 정렬이 되어 있어야 유용하다.\n",
    "### 활용\n",
    "- 정렬을 한 후 적용해야 하기 때문에 인덱스를 찾는 문제보단 '세 수의 합'처럼 값을 찾아내는 문제가 대표적인 two pointer를 이용하는 문제"
   ]
  },
  {
   "cell_type": "code",
   "execution_count": 1,
   "metadata": {},
   "outputs": [
    {
     "data": {
      "text/plain": [
       "6"
      ]
     },
     "execution_count": 1,
     "metadata": {},
     "output_type": "execute_result"
    }
   ],
   "source": [
    "### 예제\n",
    "## 42. 빗물 트래핑 문제\n",
    "\n",
    "def trap(height: list):\n",
    "    if not height:\n",
    "        return 0\n",
    "    volume = 0\n",
    "    left, right = 0, len(height) -1\n",
    "    left_max, right_max = height[left], height[right]\n",
    "    \n",
    "    while left < right:\n",
    "        left_max, right_max = max(height[left], left_max), max(height[right], right_max)\n",
    "        if left_max <= right_max:\n",
    "            volume += left_max - height[left]\n",
    "            left += 1\n",
    "        else:\n",
    "            volume += right_max - height[right]\n",
    "            right -= 1\n",
    "    return volume\n",
    "\n",
    "trap([0,1,0,2,1,0,1,3,2,1,2,1])"
   ]
  },
  {
   "cell_type": "code",
   "execution_count": 2,
   "metadata": {},
   "outputs": [
    {
     "data": {
      "text/plain": [
       "[[-1, -1, 2], [-1, 0, 1]]"
      ]
     },
     "execution_count": 2,
     "metadata": {},
     "output_type": "execute_result"
    }
   ],
   "source": [
    "### 예제\n",
    "## 15. 3sum O(N^3) -> O(N^2)\n",
    "def threeSum(nums: list) -> list:\n",
    "    nums.sort()\n",
    "    results = []\n",
    "    \n",
    "    for i in range(len(nums)-2):\n",
    "        if i>0 and nums[i]==nums[i-1]: # 앞에 숫자와 중복\n",
    "            continue\n",
    "            \n",
    "        left, right = i+1, len(nums)-1\n",
    "        while left < right:\n",
    "            sum = nums[i] + nums[left] + nums[right]\n",
    "            if sum<0:\n",
    "                left += 1\n",
    "            elif sum>0:\n",
    "                right -= 1\n",
    "            else:\n",
    "                results.append([nums[i],nums[left],nums[right]])\n",
    "                \n",
    "                while left<right and nums[left]==nums[left+1]:\n",
    "                    left += 1\n",
    "                while left<right and nums[right]==nums[right-1]:\n",
    "                    right -= 1\n",
    "                \n",
    "                left += 1\n",
    "                right -= 1\n",
    "    \n",
    "    return results\n",
    "\n",
    "threeSum([-1, 0, 1, 2, -1, -4])"
   ]
  },
  {
   "cell_type": "markdown",
   "metadata": {},
   "source": [
    "## Sliding Window (슬라이딩 윈도우)\n",
    "\n",
    "- 두 가지 네트워크 호스트 간 패킷 흐름을 제어하기 위한 방법을 지칭하는 네트워킹 용어이기도 하다.\n",
    "- 패킷을 전송할 때 윈도우가 옆으로 이동하면서 그다음 패킷들을 전송하는 방식에서 유래 됨\n",
    "- 사실 two pointer와 다음과 같은 차이점이 있긴 하지만, 명확히 구분하여 사용하지는 않는다.\n",
    "\n",
    "### Two pointer 와 차이점\n",
    "|특징|Two pointer|Sliding Window|\n",
    "|:---:|:---:|:---:|\n",
    "|정렬 여부|대부분 정렬|X|\n",
    "|윈도우 사이즈|가변|고정|\n",
    "|이동방향|좌우 포인터 양방향|좌 또는 우 단방향|"
   ]
  },
  {
   "cell_type": "code",
   "execution_count": 3,
   "metadata": {},
   "outputs": [
    {
     "data": {
      "text/plain": [
       "[3, 3, 5, 5, 6, 7]"
      ]
     },
     "execution_count": 3,
     "metadata": {},
     "output_type": "execute_result"
    }
   ],
   "source": [
    "### 예제\n",
    "## 239. 슬라이딩 윈도우에서 최댓값 찾기\n",
    "## O(N)\n",
    "\n",
    "from collections import deque\n",
    "\n",
    "def maxSlidingWindow(nums: list, k: int) -> list:\n",
    "    if not nums:\n",
    "        return nums\n",
    "    \n",
    "    results = []\n",
    "    window = deque()\n",
    "    cur_max = float('-inf')\n",
    "    \n",
    "    for i, v in enumerate(nums):\n",
    "        window.append(v)    \n",
    "        if i < k-1:\n",
    "            continue\n",
    "        \n",
    "        if cur_max == float('-inf'):\n",
    "            cur_max = max(window)\n",
    "        elif v > cur_max:\n",
    "            cur_max = v\n",
    "            \n",
    "        results.append(cur_max)\n",
    "        \n",
    "        if cur_max == window.popleft():\n",
    "            cur_max = float('-inf')\n",
    "    \n",
    "    return results\n",
    "\n",
    "maxSlidingWindow([1,3,-1,-3,5,3,6,7], 3)"
   ]
  },
  {
   "cell_type": "code",
   "execution_count": 5,
   "metadata": {},
   "outputs": [
    {
     "data": {
      "text/plain": [
       "'BANC'"
      ]
     },
     "execution_count": 5,
     "metadata": {},
     "output_type": "execute_result"
    }
   ],
   "source": [
    "### 예제\n",
    "## 74. 부분 문자열이 포함된 최소 윈도우\n",
    "## O(N)\n",
    "\n",
    "from collections import deque, Counter\n",
    "\n",
    "def minWindow(s: str, t: str) -> str:\n",
    "    need = Counter(t)\n",
    "    missing = len(t)\n",
    "    left = start = end = 0\n",
    "    \n",
    "    for right, char in enumerate(s, 1): # s index를 1번부터\n",
    "        missing -= need[char]>0\n",
    "        need[char] -= 1\n",
    "        \n",
    "        # 필요 문자 0? 왼쪽 포인터 이동\n",
    "        if missing == 0:\n",
    "            \n",
    "            while left<right and need[s[left]]<0:\n",
    "                need[s[left]] += 1\n",
    "                left += 1\n",
    "                \n",
    "            if not end or right-left <= end-start:\n",
    "                start, end = left, right\n",
    "            \n",
    "            need[s[left]] += 1\n",
    "            missing += 1\n",
    "            left += 1\n",
    "                \n",
    "    return s[start:end]\n",
    "\n",
    "minWindow('ADOBECODEBANC', 'ABC')"
   ]
  },
  {
   "cell_type": "code",
   "execution_count": null,
   "metadata": {},
   "outputs": [],
   "source": []
  }
 ],
 "metadata": {
  "interpreter": {
   "hash": "8fc8c611f46987eee559f675a23f9decc328b5f4b17b1da313eae285b0f1b6a2"
  },
  "kernelspec": {
   "display_name": "Python 3.7.3 64-bit ('base': conda)",
   "name": "python3"
  },
  "language_info": {
   "codemirror_mode": {
    "name": "ipython",
    "version": 3
   },
   "file_extension": ".py",
   "mimetype": "text/x-python",
   "name": "python",
   "nbconvert_exporter": "python",
   "pygments_lexer": "ipython3",
   "version": "3.7.3"
  },
  "orig_nbformat": 4
 },
 "nbformat": 4,
 "nbformat_minor": 2
}
